{
 "cells": [
  {
   "cell_type": "code",
   "execution_count": 1,
   "metadata": {
    "collapsed": true
   },
   "outputs": [],
   "source": [
    "import itertools\n",
    "\n",
    "def vernam_enc(msg, key, enc='ascii', cycle_key=False, decode=False):\n",
    "    if isinstance(msg, str):\n",
    "        msg = msg.encode(enc)\n",
    "    if isinstance(key, str):\n",
    "        key = msg.encode(enc)\n",
    "    N = len(msg)\n",
    "    if len(key) < N and not cycle_key:\n",
    "        raise ValueError('Vernam: `key` shall be as long as `msg`')\n",
    "    key = itertools.cycle(key)\n",
    "    msg = [m^k for m, k in zip(msg, key)]\n",
    "    if decode:\n",
    "        msg = bytes(msg)\n",
    "        msg = msg.decode(enc)\n",
    "    return msg\n",
    "\n",
    "vernam_dec = vernam_enc"
   ]
  },
  {
   "cell_type": "code",
   "execution_count": 2,
   "metadata": {
    "collapsed": true
   },
   "outputs": [],
   "source": [
    "import random\n",
    "random.seed(42)"
   ]
  },
  {
   "cell_type": "code",
   "execution_count": 3,
   "metadata": {
    "collapsed": true
   },
   "outputs": [],
   "source": [
    "msg = \"\"\"It must be the law of diminishing returns...\n",
    "I feel the spell about to be broken.\n",
    "(Energizing himself somewhat.\n",
    "He takes out a coin, spins it high, catches it,\n",
    "turns it over on to the back of his other hand,\n",
    "studies the coin ---\n",
    "and tosses it to ROS.\n",
    "His energy deflates and he sits.)\n",
    "Well, it was an even chance...\n",
    "if my calculations are correct\"\"\"\n",
    "key = [random.randint(1, 255) for m in msg]\n",
    "enc = 'ascii'\n",
    "c = vernam_enc(msg, key, enc=enc)"
   ]
  },
  {
   "cell_type": "code",
   "execution_count": 4,
   "metadata": {},
   "outputs": [
    {
     "data": {
      "text/plain": [
       "b\"\\xedi'\\xd32LN\\x04\\xdf~\\x8e\\xca\\x8d\\xe97\\xf4\\x0c~(w^\\x1c\\xe6\\xf2j\\xf9]\\xd1\\xd4\\xdc\\xe5\\x02^S\\xe5-\\xa4\\xaap\\xad\\xbc\\x07\\x9dCR\\x01\\x08^\\x93\\xa1;;l\\n||\\xaa)\\xfe(\\xa3,\\xda\\x14\\xe5U\\x8e\\xcd\\x15z\\xae.\\xb0\\x81\\xfd\\x91\\xb26\\xf1\\\\\\x9b\\x18$\\xefU\\xa39\\x9a|\\xa1U\\xb0}B \\x1c\\xce\\xa5;F9{E\\xc3(\\xd1\\x87\\xc7\\xc7g\\xb2\\xa9d\\xec\\x9bKK\\x1c\\x075\\xde\\x82\\xd1\\xc5\\xafX\\x907\\xb7\\xac\\xa9#\\x1b\\xa0y\\xa6?\\x14exC\\xca\\x9a\\xfb\\x86\\xd0}\\x17\\xcb\\xe1\\x12\\x80\\x83\\xc0\\x05\\x05-Pl\\xb5\\xe4\\xff6\\xae\\xe5N\\x8f\\xe2G2OA\\xf1_w\\xac-\\xa9r\\x08\\xd5A\\xae\\x8f\\x0f\\xf8r\\x08B\\xf6\\x1e\\xa8)\\x90\\xfd\\xfd\\x9dw\\xc7\\xdcl\\x8f\\x8b\\xeb\\xaf!\\xe9\\xaf+i9\\x14@\\x10r\\xd5\\xcd\\x89\\xdcd\\x9a\\xee\\xad@\\xa2\\xc71\\xf2\\xab,\\xb6\\xc0\\xa2\\xe8\\\\[\\x13\\xa1Y\\xab\\x9c\\xbc\\xcd\\xfc\\x83!\\xc8\\x1c-+\\x17\\xa64\\x92\\xdd\\xb0\\xa1*LhG\\xc1\\xf6\\x96sz\\xdd\\t\\xb4a\\xdb\\xa2\\xe7\\xa1\\x01I\\xccZ\\x80\\xe4_7\\xa6\\xc9\\x96:\\x92[\\x82\\xa7\\xe2\\xd2\\xc5\\x14\\xc01\\x14\\xdf\\xcd\\xc9@\\x14\\x91\\xe0\\x1a?#Rp9e\\xf2\\xa0\\x15\\xb93ku\\x96\\xcfi\\x1bq\\x89e\\xbe \\x7f\\xe5I!\\xc3\\x13D\\xabC\\xc8\\x95\\xc2\\xf0\\xfb\\x08M\\xac\\x19\\xbb\""
      ]
     },
     "execution_count": 4,
     "metadata": {},
     "output_type": "execute_result"
    }
   ],
   "source": [
    "bytes(c)"
   ]
  },
  {
   "cell_type": "code",
   "execution_count": 5,
   "metadata": {
    "scrolled": false
   },
   "outputs": [
    {
     "name": "stdout",
     "output_type": "stream",
     "text": [
      "It must be the law of diminishing returns...\n",
      "I feel the spell about to be broken.\n",
      "(Energizing himself somewhat.\n",
      "He takes out a coin, spins it high, catches it,\n",
      "turns it over on to the back of his other hand,\n",
      "studies the coin ---\n",
      "and tosses it to ROS.\n",
      "His energy deflates and he sits.)\n",
      "Well, it was an even chance...\n",
      "if my calculations are correct\n"
     ]
    }
   ],
   "source": [
    "print(vernam_dec(c, key, decode=True))"
   ]
  },
  {
   "cell_type": "code",
   "execution_count": null,
   "metadata": {
    "collapsed": true
   },
   "outputs": [],
   "source": []
  }
 ],
 "metadata": {
  "kernelspec": {
   "display_name": "Python 3",
   "language": "python",
   "name": "python3"
  },
  "language_info": {
   "codemirror_mode": {
    "name": "ipython",
    "version": 3
   },
   "file_extension": ".py",
   "mimetype": "text/x-python",
   "name": "python",
   "nbconvert_exporter": "python",
   "pygments_lexer": "ipython3",
   "version": "3.6.3"
  }
 },
 "nbformat": 4,
 "nbformat_minor": 2
}
