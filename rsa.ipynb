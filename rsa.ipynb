{
 "cells": [
  {
   "cell_type": "code",
   "execution_count": null,
   "metadata": {
    "ExecuteTime": {
     "start_time": "2017-12-21T22:34:08.163Z"
    },
    "collapsed": true
   },
   "outputs": [],
   "source": [
    "import random\n",
    "import sympy\n",
    "import math\n",
    "import itertools\n",
    "\n",
    "def rsa_enc(m, pub_key):\n",
    "    n, e = key\n",
    "    return m**e % n\n",
    "\n",
    "def rsa_dec(m, sec_key):\n",
    "    n, d = sec_key\n",
    "    return m**d % n\n",
    "\n",
    "rsa_sign = rsa_dec\n",
    "\n",
    "def rsa_verify(s, m, pub_key):\n",
    "    return rsa_enc(s, pub_key) == m\n",
    "\n",
    "def random_prime(bits, x_min=1, max_iters=int(1e7)):\n",
    "    x = 1\n",
    "    while not sympy.isprime(x) and max_iters > 0:\n",
    "        x = random.randint(x_min, -1 + 2**(1+bits))\n",
    "        if x % 2 == 0:\n",
    "            x += 1\n",
    "        max_iters -= 1\n",
    "    if max_iters == 0:\n",
    "        raise RuntimeError(\"\"\"Bad luck error!\n",
    "ROS (dumbly): Eighty-five in a row? Tails?\"\"\")\n",
    "    return x\n",
    "\n",
    "def some_coprime(lmbda):\n",
    "    for eps in range(2, lmbda):\n",
    "        if math.gcd(eps, lmbda) == 1:\n",
    "            return eps\n",
    "    raise RuntimeError('Some bad luck! No coprimes in range(1, lmbda)')\n",
    "\n",
    "def modinv(x, p, q):\n",
    "    \"\"\"modinv(x, p, q)\n",
    "refer to:\n",
    "https://en.wikipedia.org/wiki/Modular_multiplicative_inverse#Using_Euler's_theorem\"\"\"\n",
    "    totient = (p-1)*(q-1)\n",
    "    return x**(totient-1)\n",
    "    \n",
    "def rsa_genkey(bits=4096):\n",
    "    p, q = random_prime(bits=bits), random_prime(bits=bits)\n",
    "    n = p*q\n",
    "    lmbda = (p-1)*(q-1)\n",
    "    eps = some_coprime(lmbda)\n",
    "    d = modinv(eps, p, q)\n",
    "    pub_key = (n, eps)\n",
    "    sec_key = (n, d)\n",
    "    return pub_key, sec_key"
   ]
  },
  {
   "cell_type": "code",
   "execution_count": null,
   "metadata": {
    "ExecuteTime": {
     "start_time": "2017-12-21T22:34:08.168Z"
    }
   },
   "outputs": [],
   "source": [
    "pk, sk = rsa_genkey()"
   ]
  },
  {
   "cell_type": "code",
   "execution_count": null,
   "metadata": {
    "ExecuteTime": {
     "start_time": "2017-12-21T22:34:08.170Z"
    },
    "collapsed": true
   },
   "outputs": [],
   "source": [
    "pk, sk"
   ]
  },
  {
   "cell_type": "code",
   "execution_count": null,
   "metadata": {
    "collapsed": true
   },
   "outputs": [],
   "source": []
  }
 ],
 "metadata": {
  "kernelspec": {
   "display_name": "Python 3",
   "language": "python",
   "name": "python3"
  },
  "language_info": {
   "codemirror_mode": {
    "name": "ipython",
    "version": 3
   },
   "file_extension": ".py",
   "mimetype": "text/x-python",
   "name": "python",
   "nbconvert_exporter": "python",
   "pygments_lexer": "ipython3",
   "version": "3.6.3"
  },
  "notify_time": "0"
 },
 "nbformat": 4,
 "nbformat_minor": 2
}
